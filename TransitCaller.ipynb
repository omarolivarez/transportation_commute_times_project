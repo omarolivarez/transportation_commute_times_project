{
 "cells": [
  {
   "cell_type": "markdown",
   "metadata": {},
   "source": [
    "# TransitCaller"
   ]
  },
  {
   "cell_type": "markdown",
   "metadata": {},
   "source": [
    "**Author:** Omar Olivarez  \n",
    "**Last edited:** 12/19/2020"
   ]
  },
  {
   "cell_type": "markdown",
   "metadata": {},
   "source": [
    "*This notebook is to make calls to the Google Transit API and generate data.*"
   ]
  },
  {
   "cell_type": "markdown",
   "metadata": {},
   "source": [
    "## Import libraries"
   ]
  },
  {
   "cell_type": "code",
   "execution_count": 2,
   "metadata": {},
   "outputs": [
    {
     "name": "stdout",
     "output_type": "stream",
     "text": [
      "Requirement already satisfied: requests in /opt/conda/lib/python3.6/site-packages (2.21.0)\n",
      "Requirement already satisfied: chardet<3.1.0,>=3.0.2 in /opt/conda/lib/python3.6/site-packages (from requests) (3.0.4)\n",
      "Requirement already satisfied: idna<2.9,>=2.5 in /opt/conda/lib/python3.6/site-packages (from requests) (2.8)\n",
      "Requirement already satisfied: certifi>=2017.4.17 in /opt/conda/lib/python3.6/site-packages (from requests) (2018.11.29)\n",
      "Requirement already satisfied: urllib3<1.25,>=1.21.1 in /opt/conda/lib/python3.6/site-packages (from requests) (1.24.1)\n"
     ]
    }
   ],
   "source": [
    "#!pip install requests"
   ]
  },
  {
   "cell_type": "code",
   "execution_count": 1,
   "metadata": {},
   "outputs": [],
   "source": [
    "import requests\n",
    "import time\n",
    "import json\n",
    "import pandas as pd"
   ]
  },
  {
   "cell_type": "markdown",
   "metadata": {},
   "source": [
    "## Locations Info"
   ]
  },
  {
   "cell_type": "markdown",
   "metadata": {},
   "source": [
    "Round 1 Locations: Essential Neighborhoods to Hospitals:"
   ]
  },
  {
   "cell_type": "code",
   "execution_count": 2,
   "metadata": {},
   "outputs": [],
   "source": [
    "# NEW LOCATIONS INFO\n",
    "# TOP ESSENTIAL WORKERS\n",
    "or1 = \"place_id:ChIJp-dEj9pcwokRRIIbAITrxV8\" # Canarsie location\n",
    "or2 = \"place_id:ChIJHxYhfC9hwokRtmzBNHTQOQw\" # Jamaica\n",
    "or3 = \"place_id:ChIJ2XDsFddjwokRARMg8Zx_GJk\" # Queens village\n",
    "or4 = \"place_id:ChIJCUPI05_2wokRc9ojcr_nW5I\" # Washington heights\n",
    "or5 = \"place_id:ChIJc6C_g9T0wokRr5e3ZwWhHrA\" # castle hill\n",
    "origins = or1 + \"|\" + or2 + \"|\" + or3 + \"|\" + or4  + \"|\" + or5\n",
    "\n",
    "des1 = \"place_id:ChIJp1XNkaz0wokR9zxUKt5wjXM\" # Calvary hospital the Bronx\n",
    "des2 = \"place_id:ChIJCSdHGX30wokRH6Q9fL30_Ag\" # St Barnabas hospital west bronx\n",
    "des3 = \"place_id:ChIJH_3_XR70wokRERwBn0Q7VTg\" # new york presybeterian Washingotn Heights\n",
    "des4 = \"place_id:ChIJceEubkhfwokRnPU64LKavB0\" # Mt Sinai Queens\n",
    "des5 = \"place_id:ChIJHQA-knb2wokRfBq4XadP6hc\" # new york health and hospitals harlem\n",
    "\n",
    "destinations  = des1 + \"|\" + des2 + \"|\" + des3 + \"|\" + des4 + \"|\" + des5\n",
    "\n",
    "# TIME\n",
    "departure_time = \"1607947200\" # 12/14/20 at 7:00am ET\n",
    "\n",
    "key = \"\"\n"
   ]
  },
  {
   "cell_type": "markdown",
   "metadata": {},
   "source": [
    "Round 2 Locations: Essential Neighborhoods to Most Popular Stops:"
   ]
  },
  {
   "cell_type": "code",
   "execution_count": 3,
   "metadata": {},
   "outputs": [],
   "source": [
    "# NEW LOCATIONS INFO - 2\n",
    "# TOP ESSENTIAL WORKERS\n",
    "or1 = \"place_id:ChIJp-dEj9pcwokRRIIbAITrxV8\" # Canarsie location\n",
    "or2 = \"place_id:ChIJHxYhfC9hwokRtmzBNHTQOQw\" # Jamaica\n",
    "or3 = \"place_id:ChIJ2XDsFddjwokRARMg8Zx_GJk\" # Queens village\n",
    "or4 = \"place_id:ChIJCUPI05_2wokRc9ojcr_nW5I\" # Washington heights\n",
    "or5 = \"place_id:ChIJc6C_g9T0wokRr5e3ZwWhHrA\" # castle hill\n",
    "origins = or1 + \"|\" + or2 + \"|\" + or3 + \"|\" + or4  + \"|\" + or5\n",
    "\n",
    "des1 = \"place_id:ChIJ10bnS6tZwokROfmCPOetmk0\" # 1st Most popular: Times Square\n",
    "des2 = \"place_id:ChIJo-VJKwJZwokRW7N1lvGskJs\" # 2nd: Grand Central\n",
    "des3 = \"place_id:ChIJh3-JOKlZwokRF2zVuxg0pXc\" # Herald Sq\n",
    "des4 = \"place_id:ChIJGxFxxJhZwokRaAQ22S4T8GA\" # Union square\n",
    "des5 = \"place_id:ChIJU_Ox4gdbwokR56cfZqQf7X0\" # Fulton St Station\n",
    "\n",
    "destinations  = des1 + \"|\" + des2 + \"|\" + des3 + \"|\" + des4 + \"|\" + des5\n",
    "\n",
    "# TIME\n",
    "departure_time = \"1607947200\" # 12/14/20 at 7:00am ET\n",
    "\n",
    "key = \"\""
   ]
  },
  {
   "cell_type": "code",
   "execution_count": null,
   "metadata": {},
   "outputs": [],
   "source": []
  },
  {
   "cell_type": "markdown",
   "metadata": {},
   "source": [
    "## Time Info"
   ]
  },
  {
   "cell_type": "code",
   "execution_count": 4,
   "metadata": {},
   "outputs": [],
   "source": [
    "# 30 min calculation\n",
    "thirty = 1800\n",
    "day = 86400\n",
    "d1 = departure_time\n",
    "d2 = str(int(departure_time) + 86400)\n",
    "d3 = str(int(d2) + 86400)\n",
    "d4 = str(int(d3) + 86400)\n",
    "d5 = str(int(d4) + 86400)"
   ]
  },
  {
   "cell_type": "markdown",
   "metadata": {},
   "source": [
    "## Data Collection"
   ]
  },
  {
   "cell_type": "code",
   "execution_count": 5,
   "metadata": {},
   "outputs": [
    {
     "name": "stdout",
     "output_type": "stream",
     "text": [
      "DAY: 0\n",
      "DAY: 1\n",
      "DAY: 2\n",
      "DAY: 3\n",
      "DAY: 4\n"
     ]
    }
   ],
   "source": [
    "iter_time = 1\n",
    "iter_day = 0\n",
    "flag = True\n",
    "d = {}\n",
    "csv_name = \"output\"\n",
    "\n",
    "df_rows = []\n",
    "\n",
    "iter_days = [d1, d2, d3, d4, d5]\n",
    "#full\n",
    "while iter_day <5:\n",
    "    departure_time = iter_days[iter_day]\n",
    "    print(\"DAY:\", iter_day)\n",
    "    while iter_time < 25:\n",
    "        #print(\"RECORD: \", iter_time)\n",
    "        URL = \"https://maps.googleapis.com/maps/api/distancematrix/json?units=imperial&origins=\" \n",
    "        URL = URL + origins + \"&destinations=\" + destinations\n",
    "        URL = URL + \"&mode=transit&departure_time=\"\n",
    "        URL = URL + departure_time + \"&key=\"\n",
    "        URL = URL + key\n",
    "        r = requests.get(url = URL) \n",
    "        data = r.json() \n",
    "        \n",
    "        # loop through the data and add it to lists to turn into df\n",
    "        des_count = 0\n",
    "        for ori in data[\"origin_addresses\"]:\n",
    "            or_count = 0\n",
    "            for dest in data[\"destination_addresses\"]:\n",
    "                #print(ori, \" ---- \", dest)\n",
    "                try:\n",
    "                   dur = data[\"rows\"][des_count][\"elements\"][or_count][\"duration\"][\"text\"]\n",
    "                except:\n",
    "                  print(\"This option did not have a duration:\", \"origin:\", ori, \"dest:\", dest, iter_time, \"day:\", iter_day)\n",
    "               \n",
    "                or_count += 1\n",
    "                #print()\n",
    "                #origins.append(ori)\n",
    "                #destinations.append(dest)\n",
    "                #durations.append(dur)\n",
    "                #departure_times.append(\"7:30AM\")\n",
    "                row = [ori, dest, dur, departure_time]\n",
    "                df_rows.append(row)\n",
    "            des_count += 1\n",
    "        \n",
    "        # Ignore this section I think\n",
    "        \"\"\"name = csv_name + str(iter_time)+\"day\"+str(iter_day)+\".csv\"\n",
    "        # Write to .CSV\n",
    "        f = open(name, \"w\")\n",
    "        f.write(r.text)\n",
    "        f.close()\"\"\"\n",
    "        # stop inoring section\n",
    "        \n",
    "        departure_time = str(int(departure_time) + thirty)\n",
    "        iter_time += 1\n",
    "        time.sleep(0.3)\n",
    "    iter_day += 1\n",
    "    iter_time = 1\n",
    "    "
   ]
  },
  {
   "cell_type": "code",
   "execution_count": 6,
   "metadata": {
    "scrolled": true
   },
   "outputs": [
    {
     "data": {
      "text/html": [
       "<div>\n",
       "<style scoped>\n",
       "    .dataframe tbody tr th:only-of-type {\n",
       "        vertical-align: middle;\n",
       "    }\n",
       "\n",
       "    .dataframe tbody tr th {\n",
       "        vertical-align: top;\n",
       "    }\n",
       "\n",
       "    .dataframe thead th {\n",
       "        text-align: right;\n",
       "    }\n",
       "</style>\n",
       "<table border=\"1\" class=\"dataframe\">\n",
       "  <thead>\n",
       "    <tr style=\"text-align: right;\">\n",
       "      <th></th>\n",
       "      <th>origins</th>\n",
       "      <th>destinations</th>\n",
       "      <th>durations</th>\n",
       "      <th>departure_times</th>\n",
       "    </tr>\n",
       "  </thead>\n",
       "  <tbody>\n",
       "    <tr>\n",
       "      <th>0</th>\n",
       "      <td>1500 E 92nd St, Brooklyn, NY 11236, USA</td>\n",
       "      <td>Times Sq-42 St, New York, NY 10018, USA</td>\n",
       "      <td>1 hour 15 mins</td>\n",
       "      <td>1607947200</td>\n",
       "    </tr>\n",
       "    <tr>\n",
       "      <th>1</th>\n",
       "      <td>1500 E 92nd St, Brooklyn, NY 11236, USA</td>\n",
       "      <td>Grand Central - 42 St, New York, NY 10017, USA</td>\n",
       "      <td>1 hour 17 mins</td>\n",
       "      <td>1607947200</td>\n",
       "    </tr>\n",
       "    <tr>\n",
       "      <th>2</th>\n",
       "      <td>1500 E 92nd St, Brooklyn, NY 11236, USA</td>\n",
       "      <td>34 St - Herald Sq Subway Station, New York, NY...</td>\n",
       "      <td>1 hour 13 mins</td>\n",
       "      <td>1607947200</td>\n",
       "    </tr>\n",
       "    <tr>\n",
       "      <th>3</th>\n",
       "      <td>1500 E 92nd St, Brooklyn, NY 11236, USA</td>\n",
       "      <td>14 St - Union Sq, New York, NY 10003, USA</td>\n",
       "      <td>58 mins</td>\n",
       "      <td>1607947200</td>\n",
       "    </tr>\n",
       "    <tr>\n",
       "      <th>4</th>\n",
       "      <td>1500 E 92nd St, Brooklyn, NY 11236, USA</td>\n",
       "      <td>141 Fulton St, New York, NY 10038, USA</td>\n",
       "      <td>1 hour 6 mins</td>\n",
       "      <td>1607947200</td>\n",
       "    </tr>\n",
       "  </tbody>\n",
       "</table>\n",
       "</div>"
      ],
      "text/plain": [
       "                                   origins  \\\n",
       "0  1500 E 92nd St, Brooklyn, NY 11236, USA   \n",
       "1  1500 E 92nd St, Brooklyn, NY 11236, USA   \n",
       "2  1500 E 92nd St, Brooklyn, NY 11236, USA   \n",
       "3  1500 E 92nd St, Brooklyn, NY 11236, USA   \n",
       "4  1500 E 92nd St, Brooklyn, NY 11236, USA   \n",
       "\n",
       "                                        destinations       durations  \\\n",
       "0            Times Sq-42 St, New York, NY 10018, USA  1 hour 15 mins   \n",
       "1     Grand Central - 42 St, New York, NY 10017, USA  1 hour 17 mins   \n",
       "2  34 St - Herald Sq Subway Station, New York, NY...  1 hour 13 mins   \n",
       "3          14 St - Union Sq, New York, NY 10003, USA         58 mins   \n",
       "4             141 Fulton St, New York, NY 10038, USA   1 hour 6 mins   \n",
       "\n",
       "  departure_times  \n",
       "0      1607947200  \n",
       "1      1607947200  \n",
       "2      1607947200  \n",
       "3      1607947200  \n",
       "4      1607947200  "
      ]
     },
     "execution_count": 6,
     "metadata": {},
     "output_type": "execute_result"
    }
   ],
   "source": [
    "df = pd.DataFrame(columns=['origins', 'destinations', 'durations', 'departure_times'], data=df_rows)\n",
    "df.head()"
   ]
  },
  {
   "cell_type": "code",
   "execution_count": 7,
   "metadata": {},
   "outputs": [
    {
     "data": {
      "text/html": [
       "<div>\n",
       "<style scoped>\n",
       "    .dataframe tbody tr th:only-of-type {\n",
       "        vertical-align: middle;\n",
       "    }\n",
       "\n",
       "    .dataframe tbody tr th {\n",
       "        vertical-align: top;\n",
       "    }\n",
       "\n",
       "    .dataframe thead th {\n",
       "        text-align: right;\n",
       "    }\n",
       "</style>\n",
       "<table border=\"1\" class=\"dataframe\">\n",
       "  <thead>\n",
       "    <tr style=\"text-align: right;\">\n",
       "      <th></th>\n",
       "      <th>origins</th>\n",
       "      <th>destinations</th>\n",
       "      <th>durations</th>\n",
       "      <th>departure_times</th>\n",
       "    </tr>\n",
       "  </thead>\n",
       "  <tbody>\n",
       "    <tr>\n",
       "      <th>2995</th>\n",
       "      <td>2300 Randall Ave, The Bronx, NY 10473, USA</td>\n",
       "      <td>Times Sq-42 St, New York, NY 10018, USA</td>\n",
       "      <td>1 hour 7 mins</td>\n",
       "      <td>1608334200</td>\n",
       "    </tr>\n",
       "    <tr>\n",
       "      <th>2996</th>\n",
       "      <td>2300 Randall Ave, The Bronx, NY 10473, USA</td>\n",
       "      <td>Grand Central - 42 St, New York, NY 10017, USA</td>\n",
       "      <td>1 hour 2 mins</td>\n",
       "      <td>1608334200</td>\n",
       "    </tr>\n",
       "    <tr>\n",
       "      <th>2997</th>\n",
       "      <td>2300 Randall Ave, The Bronx, NY 10473, USA</td>\n",
       "      <td>34 St - Herald Sq Subway Station, New York, NY...</td>\n",
       "      <td>1 hour 12 mins</td>\n",
       "      <td>1608334200</td>\n",
       "    </tr>\n",
       "    <tr>\n",
       "      <th>2998</th>\n",
       "      <td>2300 Randall Ave, The Bronx, NY 10473, USA</td>\n",
       "      <td>14 St - Union Sq, New York, NY 10003, USA</td>\n",
       "      <td>1 hour 7 mins</td>\n",
       "      <td>1608334200</td>\n",
       "    </tr>\n",
       "    <tr>\n",
       "      <th>2999</th>\n",
       "      <td>2300 Randall Ave, The Bronx, NY 10473, USA</td>\n",
       "      <td>141 Fulton St, New York, NY 10038, USA</td>\n",
       "      <td>1 hour 13 mins</td>\n",
       "      <td>1608334200</td>\n",
       "    </tr>\n",
       "  </tbody>\n",
       "</table>\n",
       "</div>"
      ],
      "text/plain": [
       "                                         origins  \\\n",
       "2995  2300 Randall Ave, The Bronx, NY 10473, USA   \n",
       "2996  2300 Randall Ave, The Bronx, NY 10473, USA   \n",
       "2997  2300 Randall Ave, The Bronx, NY 10473, USA   \n",
       "2998  2300 Randall Ave, The Bronx, NY 10473, USA   \n",
       "2999  2300 Randall Ave, The Bronx, NY 10473, USA   \n",
       "\n",
       "                                           destinations       durations  \\\n",
       "2995            Times Sq-42 St, New York, NY 10018, USA   1 hour 7 mins   \n",
       "2996     Grand Central - 42 St, New York, NY 10017, USA   1 hour 2 mins   \n",
       "2997  34 St - Herald Sq Subway Station, New York, NY...  1 hour 12 mins   \n",
       "2998          14 St - Union Sq, New York, NY 10003, USA   1 hour 7 mins   \n",
       "2999             141 Fulton St, New York, NY 10038, USA  1 hour 13 mins   \n",
       "\n",
       "     departure_times  \n",
       "2995      1608334200  \n",
       "2996      1608334200  \n",
       "2997      1608334200  \n",
       "2998      1608334200  \n",
       "2999      1608334200  "
      ]
     },
     "execution_count": 7,
     "metadata": {},
     "output_type": "execute_result"
    }
   ],
   "source": [
    "df.tail()"
   ]
  },
  {
   "cell_type": "markdown",
   "metadata": {},
   "source": [
    "We generated 1975 rows with this aggregation."
   ]
  },
  {
   "cell_type": "markdown",
   "metadata": {},
   "source": [
    "Now let's save this df as a csv for future analyses. We will need to convert the durations column to not be text and be time instead. "
   ]
  },
  {
   "cell_type": "code",
   "execution_count": 56,
   "metadata": {},
   "outputs": [],
   "source": [
    "df.to_csv(r'week_of_Dec_14.csv', index = False, header=True)"
   ]
  },
  {
   "cell_type": "markdown",
   "metadata": {},
   "source": [
    "2nd Round generated CSV:"
   ]
  },
  {
   "cell_type": "code",
   "execution_count": 8,
   "metadata": {},
   "outputs": [],
   "source": [
    "df.to_csv(r'week_of_Dec_14_most_pop.csv', index = False, header=True)"
   ]
  },
  {
   "cell_type": "markdown",
   "metadata": {},
   "source": [
    "## Valid Code Ends Here, Ignore All Code Below!"
   ]
  },
  {
   "cell_type": "markdown",
   "metadata": {},
   "source": [
    "## Ignore this"
   ]
  },
  {
   "cell_type": "code",
   "execution_count": 18,
   "metadata": {
    "scrolled": true
   },
   "outputs": [
    {
     "name": "stdout",
     "output_type": "stream",
     "text": [
      "<class 'pandas.core.frame.DataFrame'>\n"
     ]
    },
    {
     "data": {
      "text/html": [
       "<div>\n",
       "<style scoped>\n",
       "    .dataframe tbody tr th:only-of-type {\n",
       "        vertical-align: middle;\n",
       "    }\n",
       "\n",
       "    .dataframe tbody tr th {\n",
       "        vertical-align: top;\n",
       "    }\n",
       "\n",
       "    .dataframe thead th {\n",
       "        text-align: right;\n",
       "    }\n",
       "</style>\n",
       "<table border=\"1\" class=\"dataframe\">\n",
       "  <thead>\n",
       "    <tr style=\"text-align: right;\">\n",
       "      <th></th>\n",
       "      <th>destination_addresses</th>\n",
       "      <th>origin_addresses</th>\n",
       "      <th>rows</th>\n",
       "      <th>status</th>\n",
       "    </tr>\n",
       "  </thead>\n",
       "  <tbody>\n",
       "    <tr>\n",
       "      <th>0</th>\n",
       "      <td>1740 Eastchester Rd, The Bronx, NY 10461, USA</td>\n",
       "      <td>1500 E 92nd St, Brooklyn, NY 11236, USA</td>\n",
       "      <td>{'elements': [{'distance': {'text': '25.0 mi',...</td>\n",
       "      <td>OK</td>\n",
       "    </tr>\n",
       "    <tr>\n",
       "      <th>1</th>\n",
       "      <td>4422 3rd Ave., The Bronx, NY 10456, USA</td>\n",
       "      <td>108-35 167th St, Queens, NY 11433, USA</td>\n",
       "      <td>{'elements': [{'distance': {'text': '23.0 mi',...</td>\n",
       "      <td>OK</td>\n",
       "    </tr>\n",
       "    <tr>\n",
       "      <th>2</th>\n",
       "      <td>1447 St Nicholas Ave, New York, NY 10033, USA</td>\n",
       "      <td>102-29 215th St, Jamaica, NY 11429, USA</td>\n",
       "      <td>{'elements': [{'distance': {'text': '24.7 mi',...</td>\n",
       "      <td>OK</td>\n",
       "    </tr>\n",
       "    <tr>\n",
       "      <th>3</th>\n",
       "      <td>25-10 30th Ave, Queens, NY 11102, USA</td>\n",
       "      <td>1290 St Nicholas Ave, New York, NY 10033, USA</td>\n",
       "      <td>{'elements': [{'distance': {'text': '7.4 mi', ...</td>\n",
       "      <td>OK</td>\n",
       "    </tr>\n",
       "    <tr>\n",
       "      <th>4</th>\n",
       "      <td>506 Lenox Ave, New York, NY 10037, USA</td>\n",
       "      <td>2300 Randall Ave, The Bronx, NY 10473, USA</td>\n",
       "      <td>{'elements': [{'distance': {'text': '3.2 mi', ...</td>\n",
       "      <td>OK</td>\n",
       "    </tr>\n",
       "  </tbody>\n",
       "</table>\n",
       "</div>"
      ],
      "text/plain": [
       "                           destination_addresses  \\\n",
       "0  1740 Eastchester Rd, The Bronx, NY 10461, USA   \n",
       "1        4422 3rd Ave., The Bronx, NY 10456, USA   \n",
       "2  1447 St Nicholas Ave, New York, NY 10033, USA   \n",
       "3          25-10 30th Ave, Queens, NY 11102, USA   \n",
       "4         506 Lenox Ave, New York, NY 10037, USA   \n",
       "\n",
       "                                origin_addresses  \\\n",
       "0        1500 E 92nd St, Brooklyn, NY 11236, USA   \n",
       "1         108-35 167th St, Queens, NY 11433, USA   \n",
       "2        102-29 215th St, Jamaica, NY 11429, USA   \n",
       "3  1290 St Nicholas Ave, New York, NY 10033, USA   \n",
       "4     2300 Randall Ave, The Bronx, NY 10473, USA   \n",
       "\n",
       "                                                rows status  \n",
       "0  {'elements': [{'distance': {'text': '25.0 mi',...     OK  \n",
       "1  {'elements': [{'distance': {'text': '23.0 mi',...     OK  \n",
       "2  {'elements': [{'distance': {'text': '24.7 mi',...     OK  \n",
       "3  {'elements': [{'distance': {'text': '7.4 mi', ...     OK  \n",
       "4  {'elements': [{'distance': {'text': '3.2 mi', ...     OK  "
      ]
     },
     "execution_count": 18,
     "metadata": {},
     "output_type": "execute_result"
    }
   ],
   "source": [
    "\"\"\"json_singleJSON = pd.read_json(\"output10day0.csv\")\n",
    "print(type(json_singleJSON))\n",
    "json_singleJSON.head()\"\"\"\n",
    "\n",
    "#json_singleJSON.to_csv(\"newcsv1219.csv\")"
   ]
  },
  {
   "cell_type": "markdown",
   "metadata": {},
   "source": [
    "## Practicing with a single JSON:"
   ]
  },
  {
   "cell_type": "code",
   "execution_count": 5,
   "metadata": {},
   "outputs": [
    {
     "data": {
      "text/plain": [
       "'\\njson structure is:\\nfirst element: a dictionary with a value of a list of destinations\\nsecond: a dictionary with a value of a list of origins\\nthird: a dictionary with a value of a list\\nwhere each list corresponds to an origin (in order)\\nwithin each list there is a dictionary where each value corresponds to a destination\\nthe dictionary has one element which has a value of a list of dictionaries\\neach dictionary has a \\n   distance key with another dictionary containing a distance/\"text\" value, and a \"value\" value\\n   duration key with another dict containing time/\"text\" and \"value\" values\\n   and a \\n\\n\\n\\n'"
      ]
     },
     "execution_count": 5,
     "metadata": {},
     "output_type": "execute_result"
    }
   ],
   "source": [
    "\"\"\"\n",
    "json structure is:\n",
    "first element: a dictionary with a value of a list of destinations\n",
    "second: a dictionary with a value of a list of origins\n",
    "third: a dictionary with a value of a list\n",
    "where each list corresponds to an origin (in order)\n",
    "within each list there is a dictionary where each value corresponds to a destination\n",
    "the dictionary has one element which has a value of a list of dictionaries\n",
    "each dictionary has a \n",
    "   distance key with another dictionary containing a distance/\"text\" value, and a \"value\" value\n",
    "   duration key with another dict containing time/\"text\" and \"value\" values\n",
    "   and a \"status\" value\n",
    "\"\"\""
   ]
  },
  {
   "cell_type": "code",
   "execution_count": 16,
   "metadata": {},
   "outputs": [],
   "source": [
    "# practice with just a few entries\n",
    "URL = \"https://maps.googleapis.com/maps/api/distancematrix/json?units=imperial&origins=\" \n",
    "URL = URL + origins + \"&destinations=\" + destinations\n",
    "URL = URL + \"&mode=transit&departure_time=\"\n",
    "URL = URL + departure_time + \"&key=\"\n",
    "URL = URL + key\n",
    "r = requests.get(url = URL) \n",
    "data = r.json() "
   ]
  },
  {
   "cell_type": "code",
   "execution_count": 17,
   "metadata": {},
   "outputs": [
    {
     "data": {
      "text/plain": [
       "{'destination_addresses': ['1740 Eastchester Rd, The Bronx, NY 10461, USA',\n",
       "  '4422 3rd Ave., The Bronx, NY 10456, USA',\n",
       "  '1447 St Nicholas Ave, New York, NY 10033, USA',\n",
       "  '25-10 30th Ave, Queens, NY 11102, USA',\n",
       "  '506 Lenox Ave, New York, NY 10037, USA'],\n",
       " 'origin_addresses': ['1500 E 92nd St, Brooklyn, NY 11236, USA',\n",
       "  '108-35 167th St, Queens, NY 11433, USA',\n",
       "  '102-29 215th St, Jamaica, NY 11429, USA',\n",
       "  '1290 St Nicholas Ave, New York, NY 10033, USA',\n",
       "  '2300 Randall Ave, The Bronx, NY 10473, USA'],\n",
       " 'rows': [{'elements': [{'distance': {'text': '24.0 mi', 'value': 38653},\n",
       "     'duration': {'text': '2 hours 2 mins', 'value': 7340},\n",
       "     'status': 'OK'},\n",
       "    {'distance': {'text': '21.4 mi', 'value': 34466},\n",
       "     'duration': {'text': '2 hours 2 mins', 'value': 7295},\n",
       "     'status': 'OK'},\n",
       "    {'distance': {'text': '20.4 mi', 'value': 32863},\n",
       "     'duration': {'text': '1 hour 41 mins', 'value': 6040},\n",
       "     'status': 'OK'},\n",
       "    {'distance': {'text': '13.6 mi', 'value': 21862},\n",
       "     'duration': {'text': '1 hour 28 mins', 'value': 5257},\n",
       "     'status': 'OK'},\n",
       "    {'distance': {'text': '19.3 mi', 'value': 31046},\n",
       "     'duration': {'text': '1 hour 39 mins', 'value': 5915},\n",
       "     'status': 'OK'}]},\n",
       "  {'elements': [{'distance': {'text': '23.5 mi', 'value': 37804},\n",
       "     'duration': {'text': '1 hour 58 mins', 'value': 7080},\n",
       "     'status': 'OK'},\n",
       "    {'distance': {'text': '22.0 mi', 'value': 35349},\n",
       "     'duration': {'text': '1 hour 46 mins', 'value': 6366},\n",
       "     'status': 'OK'},\n",
       "    {'distance': {'text': '20.9 mi', 'value': 33669},\n",
       "     'duration': {'text': '1 hour 34 mins', 'value': 5659},\n",
       "     'status': 'OK'},\n",
       "    {'distance': {'text': '10.0 mi', 'value': 16032},\n",
       "     'duration': {'text': '1 hour 11 mins', 'value': 4239},\n",
       "     'status': 'OK'},\n",
       "    {'distance': {'text': '18.9 mi', 'value': 30469},\n",
       "     'duration': {'text': '1 hour 25 mins', 'value': 5117},\n",
       "     'status': 'OK'}]},\n",
       "  {'elements': [{'distance': {'text': '25.1 mi', 'value': 40465},\n",
       "     'duration': {'text': '2 hours 10 mins', 'value': 7807},\n",
       "     'status': 'OK'},\n",
       "    {'distance': {'text': '24.1 mi', 'value': 38791},\n",
       "     'duration': {'text': '1 hour 57 mins', 'value': 7041},\n",
       "     'status': 'OK'},\n",
       "    {'distance': {'text': '23.1 mi', 'value': 37111},\n",
       "     'duration': {'text': '1 hour 45 mins', 'value': 6274},\n",
       "     'status': 'OK'},\n",
       "    {'distance': {'text': '14.0 mi', 'value': 22569},\n",
       "     'duration': {'text': '1 hour 17 mins', 'value': 4647},\n",
       "     'status': 'OK'},\n",
       "    {'distance': {'text': '19.4 mi', 'value': 31256},\n",
       "     'duration': {'text': '1 hour 33 mins', 'value': 5575},\n",
       "     'status': 'OK'}]},\n",
       "  {'elements': [{'distance': {'text': '7.4 mi', 'value': 11852},\n",
       "     'duration': {'text': '1 hour 5 mins', 'value': 3882},\n",
       "     'status': 'OK'},\n",
       "    {'distance': {'text': '3.5 mi', 'value': 5601},\n",
       "     'duration': {'text': '48 mins', 'value': 2896},\n",
       "     'status': 'OK'},\n",
       "    {'distance': {'text': '0.4 mi', 'value': 674},\n",
       "     'duration': {'text': '6 mins', 'value': 359},\n",
       "     'status': 'OK'},\n",
       "    {'distance': {'text': '12.1 mi', 'value': 19551},\n",
       "     'duration': {'text': '54 mins', 'value': 3251},\n",
       "     'status': 'OK'},\n",
       "    {'distance': {'text': '6.6 mi', 'value': 10629},\n",
       "     'duration': {'text': '35 mins', 'value': 2080},\n",
       "     'status': 'OK'}]},\n",
       "  {'elements': [{'distance': {'text': '3.2 mi', 'value': 5170},\n",
       "     'duration': {'text': '46 mins', 'value': 2751},\n",
       "     'status': 'OK'},\n",
       "    {'distance': {'text': '5.2 mi', 'value': 8339},\n",
       "     'duration': {'text': '58 mins', 'value': 3459},\n",
       "     'status': 'OK'},\n",
       "    {'distance': {'text': '7.6 mi', 'value': 12300},\n",
       "     'duration': {'text': '1 hour 17 mins', 'value': 4638},\n",
       "     'status': 'OK'},\n",
       "    {'distance': {'text': '14.1 mi', 'value': 22653},\n",
       "     'duration': {'text': '1 hour 21 mins', 'value': 4888},\n",
       "     'status': 'OK'},\n",
       "    {'distance': {'text': '9.3 mi', 'value': 14985},\n",
       "     'duration': {'text': '1 hour 0 mins', 'value': 3600},\n",
       "     'status': 'OK'}]}],\n",
       " 'status': 'OK'}"
      ]
     },
     "execution_count": 17,
     "metadata": {},
     "output_type": "execute_result"
    }
   ],
   "source": [
    "data"
   ]
  },
  {
   "cell_type": "code",
   "execution_count": 21,
   "metadata": {},
   "outputs": [
    {
     "name": "stdout",
     "output_type": "stream",
     "text": [
      "dict_keys(['destination_addresses', 'origin_addresses', 'rows', 'status'])\n"
     ]
    }
   ],
   "source": [
    "print(data.keys())"
   ]
  },
  {
   "cell_type": "code",
   "execution_count": 36,
   "metadata": {},
   "outputs": [],
   "source": [
    "origins = []\n",
    "destinations = []\n",
    "durations = []\n",
    "departure_times = []\n",
    "df_rows = []\n",
    "\n",
    "des_count = 0\n",
    "for ori in data[\"origin_addresses\"]:\n",
    "    or_count = 0\n",
    "    for dest in data[\"destination_addresses\"]:\n",
    "        #print(ori, \" ---- \", dest)\n",
    "        dur = data[\"rows\"][des_count][\"elements\"][or_count][\"duration\"][\"text\"]\n",
    "        or_count += 1\n",
    "        #print()\n",
    "        #origins.append(ori)\n",
    "        #destinations.append(dest)\n",
    "        #durations.append(dur)\n",
    "        #departure_times.append(\"7:30AM\")\n",
    "        row = [ori, dest, dur, \"7:30AM\"]\n",
    "        df_rows.append(row)\n",
    "    des_count += 1\n",
    "        "
   ]
  },
  {
   "cell_type": "code",
   "execution_count": 38,
   "metadata": {},
   "outputs": [
    {
     "data": {
      "text/html": [
       "<div>\n",
       "<style scoped>\n",
       "    .dataframe tbody tr th:only-of-type {\n",
       "        vertical-align: middle;\n",
       "    }\n",
       "\n",
       "    .dataframe tbody tr th {\n",
       "        vertical-align: top;\n",
       "    }\n",
       "\n",
       "    .dataframe thead th {\n",
       "        text-align: right;\n",
       "    }\n",
       "</style>\n",
       "<table border=\"1\" class=\"dataframe\">\n",
       "  <thead>\n",
       "    <tr style=\"text-align: right;\">\n",
       "      <th></th>\n",
       "      <th>origins</th>\n",
       "      <th>destinations</th>\n",
       "      <th>durations</th>\n",
       "      <th>departure_times</th>\n",
       "    </tr>\n",
       "  </thead>\n",
       "  <tbody>\n",
       "    <tr>\n",
       "      <th>0</th>\n",
       "      <td>1500 E 92nd St, Brooklyn, NY 11236, USA</td>\n",
       "      <td>1740 Eastchester Rd, The Bronx, NY 10461, USA</td>\n",
       "      <td>2 hours 2 mins</td>\n",
       "      <td>7:30AM</td>\n",
       "    </tr>\n",
       "    <tr>\n",
       "      <th>1</th>\n",
       "      <td>1500 E 92nd St, Brooklyn, NY 11236, USA</td>\n",
       "      <td>4422 3rd Ave., The Bronx, NY 10456, USA</td>\n",
       "      <td>2 hours 2 mins</td>\n",
       "      <td>7:30AM</td>\n",
       "    </tr>\n",
       "    <tr>\n",
       "      <th>2</th>\n",
       "      <td>1500 E 92nd St, Brooklyn, NY 11236, USA</td>\n",
       "      <td>1447 St Nicholas Ave, New York, NY 10033, USA</td>\n",
       "      <td>1 hour 41 mins</td>\n",
       "      <td>7:30AM</td>\n",
       "    </tr>\n",
       "    <tr>\n",
       "      <th>3</th>\n",
       "      <td>1500 E 92nd St, Brooklyn, NY 11236, USA</td>\n",
       "      <td>25-10 30th Ave, Queens, NY 11102, USA</td>\n",
       "      <td>1 hour 28 mins</td>\n",
       "      <td>7:30AM</td>\n",
       "    </tr>\n",
       "    <tr>\n",
       "      <th>4</th>\n",
       "      <td>1500 E 92nd St, Brooklyn, NY 11236, USA</td>\n",
       "      <td>506 Lenox Ave, New York, NY 10037, USA</td>\n",
       "      <td>1 hour 39 mins</td>\n",
       "      <td>7:30AM</td>\n",
       "    </tr>\n",
       "  </tbody>\n",
       "</table>\n",
       "</div>"
      ],
      "text/plain": [
       "                                   origins  \\\n",
       "0  1500 E 92nd St, Brooklyn, NY 11236, USA   \n",
       "1  1500 E 92nd St, Brooklyn, NY 11236, USA   \n",
       "2  1500 E 92nd St, Brooklyn, NY 11236, USA   \n",
       "3  1500 E 92nd St, Brooklyn, NY 11236, USA   \n",
       "4  1500 E 92nd St, Brooklyn, NY 11236, USA   \n",
       "\n",
       "                                    destinations       durations  \\\n",
       "0  1740 Eastchester Rd, The Bronx, NY 10461, USA  2 hours 2 mins   \n",
       "1        4422 3rd Ave., The Bronx, NY 10456, USA  2 hours 2 mins   \n",
       "2  1447 St Nicholas Ave, New York, NY 10033, USA  1 hour 41 mins   \n",
       "3          25-10 30th Ave, Queens, NY 11102, USA  1 hour 28 mins   \n",
       "4         506 Lenox Ave, New York, NY 10037, USA  1 hour 39 mins   \n",
       "\n",
       "  departure_times  \n",
       "0          7:30AM  \n",
       "1          7:30AM  \n",
       "2          7:30AM  \n",
       "3          7:30AM  \n",
       "4          7:30AM  "
      ]
     },
     "execution_count": 38,
     "metadata": {},
     "output_type": "execute_result"
    }
   ],
   "source": [
    "#cols_list = [origins, destinations, durations, departure_times]\n",
    "#df = pd.DataFrame(columns=['origins', 'destinations', 'durations', 'departure_times'], data=cols_list)\n",
    "df = pd.DataFrame(columns=['origins', 'destinations', 'durations', 'departure_times'], data=df_rows)\n",
    "df.head()"
   ]
  },
  {
   "cell_type": "code",
   "execution_count": null,
   "metadata": {},
   "outputs": [],
   "source": [
    "iter_time = 1\n",
    "iter_day = 0\n",
    "flag = True\n",
    "d = {}\n",
    "csv_name = \"output\"\n",
    "\n",
    "iter_days = [d1, d2, d3, d4, d5]\n",
    "#full\n",
    "while iter_day <5:\n",
    "    departure_time = iter_days[iter_day]\n",
    "    while iter_time < 25:\n",
    "        name = csv_name + str(iter_time)+\"day\"+str(iter_day)+\".csv\"\n",
    "        with open(name) as json_file: \n",
    "            data = json.load(json_file) \n",
    "        employee_data = data['emp_details'] \n",
    "        iter_time += 1\n",
    "    \n",
    "    iter_day += 1\n",
    "    iter_time = 1\n",
    "\n",
    "# Opening JSON file and loading the data \n",
    "# into the variable data \n",
    "with open('data.json') as json_file: \n",
    "    data = json.load(json_file) \n",
    "  \n",
    "employee_data = data['emp_details'] \n",
    "  \n",
    "# now we will open a file for writing \n",
    "data_file = open('data_file.csv', 'w') \n",
    "  \n",
    "# create the csv writer object \n",
    "csv_writer = csv.writer(data_file) \n",
    "  \n",
    "# Counter variable used for writing  \n",
    "# headers to the CSV file \n",
    "count = 0\n",
    "  \n",
    "for emp in employee_data: \n",
    "    if count == 0: \n",
    "  \n",
    "        # Writing headers of CSV file \n",
    "        header = emp.keys() \n",
    "        csv_writer.writerow(header) \n",
    "        count += 1\n",
    "  \n",
    "    # Writing data of CSV file \n",
    "    csv_writer.writerow(emp.values()) \n",
    "  \n",
    "data_file.close()"
   ]
  },
  {
   "cell_type": "markdown",
   "metadata": {},
   "source": [
    "## OLD INFO"
   ]
  },
  {
   "cell_type": "code",
   "execution_count": null,
   "metadata": {},
   "outputs": [],
   "source": [
    "# poor neighborhoods\n",
    "# mott haven\n",
    "mott_haven = \"place_id:ChIJB8yhMMX1wokRYEbSXqeyuvk\"  # New York City Housing Authority's Judge Lester Patterson, East 143rd Street, The Bronx, NY, USA\n",
    "\n",
    "# hunts point\n",
    "hunts_point = \"place_id:ChIJKwrYQqT1wokR6tCuNNMsST8\"  # New York City Terminal Produce Market\n",
    "\n",
    "# brownsville\n",
    "brownsville = \"place_id:ChIJKRTlguP0wokRQQjp4rcXOkQ\"  # Food Bazaar Supermarket\n",
    "\n",
    "\n",
    "origins = mott_haven + \"|\" + hunts_point + \"|\" + brownsville\n",
    "destinations = \"place_id:ChIJ_dkIzRhawokRcm_MIAmj9YA\" # Chambers st station: \n",
    "key = \"\"\n",
    "#mode = \n",
    "#language = \n",
    "#units = \"imperial\"\n",
    "departure_time = \"1607947200\" # 12/14/20 at 7:30am ET"
   ]
  },
  {
   "cell_type": "code",
   "execution_count": null,
   "metadata": {},
   "outputs": [],
   "source": [
    "# original version\n",
    "#URL = \"https://maps.googleapis.com/maps/api/distancematrix/json?units=imperial&origins=place_id:ChIJTRRcxWxgwokR0_x-YAJbLgU&destinations=place_id:ChIJ99JOl4NbwokRSoTA_j2J22I|place_id:ChIJrd5vvolZwokRLR4z0Ui4KFs&mode=transit&departure_time=1434391201&transit_mode=bus|subway&key=\"\n",
    "\n",
    "# version by a subway\n",
    "# brooklyn boroughs hall:   ChIJRzJqIE1awokRz3UG3VkZejI\n",
    "# destination:  Chambers st station:   ChIJ_dkIzRhawokRcm_MIAmj9YA\n",
    "# time: 1606942796  = 10am NYC time on 12/2/20\n",
    "# Time 1:\n",
    "URL = \"https://maps.googleapis.com/maps/api/distancematrix/json?units=imperial&origins=\" \n",
    "URL = URL + origins + \"&destinations=\" + destinations\n",
    "URL = URL + \"&mode=transit&departure_time=\"\n",
    "URL = URL + departure_time + \"&key=\"\n",
    "URL = URL + key\n",
    "\n",
    "# optional parameters: &transit_mode=bus|subway\n",
    "r = requests.get(url = URL) \n",
    "\n",
    "data = r.json() \n",
    "data"
   ]
  },
  {
   "cell_type": "code",
   "execution_count": null,
   "metadata": {},
   "outputs": [],
   "source": []
  },
  {
   "cell_type": "markdown",
   "metadata": {},
   "source": [
    "## Visual Data"
   ]
  },
  {
   "cell_type": "code",
   "execution_count": 23,
   "metadata": {
    "scrolled": true
   },
   "outputs": [
    {
     "data": {
      "text/html": [
       "<div>\n",
       "<style scoped>\n",
       "    .dataframe tbody tr th:only-of-type {\n",
       "        vertical-align: middle;\n",
       "    }\n",
       "\n",
       "    .dataframe tbody tr th {\n",
       "        vertical-align: top;\n",
       "    }\n",
       "\n",
       "    .dataframe thead th {\n",
       "        text-align: right;\n",
       "    }\n",
       "</style>\n",
       "<table border=\"1\" class=\"dataframe\">\n",
       "  <thead>\n",
       "    <tr style=\"text-align: right;\">\n",
       "      <th></th>\n",
       "      <th>origin</th>\n",
       "      <th>destination</th>\n",
       "      <th>time</th>\n",
       "      <th>duration</th>\n",
       "    </tr>\n",
       "  </thead>\n",
       "  <tbody>\n",
       "    <tr>\n",
       "      <th>0</th>\n",
       "      <td>1740 Eastchester Rd, The Bronx, NY 10461, USA</td>\n",
       "      <td>1500 E 92nd St, Brooklyn, NY 11236, USA</td>\n",
       "      <td>7:30</td>\n",
       "      <td>122</td>\n",
       "    </tr>\n",
       "    <tr>\n",
       "      <th>1</th>\n",
       "      <td>4422 3rd Ave., The Bronx, NY 10456, USA</td>\n",
       "      <td>1500 E 92nd St, Brooklyn, NY 11236, USA</td>\n",
       "      <td>7:30</td>\n",
       "      <td>122</td>\n",
       "    </tr>\n",
       "    <tr>\n",
       "      <th>2</th>\n",
       "      <td>1447 St Nicholas Ave, New York, NY 10033, USA</td>\n",
       "      <td>1500 E 92nd St, Brooklyn, NY 11236, USA</td>\n",
       "      <td>7:30</td>\n",
       "      <td>101</td>\n",
       "    </tr>\n",
       "    <tr>\n",
       "      <th>3</th>\n",
       "      <td>25-10 30th Ave, Queens, NY 11102, USA</td>\n",
       "      <td>1500 E 92nd St, Brooklyn, NY 11236, USA</td>\n",
       "      <td>7:30</td>\n",
       "      <td>88</td>\n",
       "    </tr>\n",
       "    <tr>\n",
       "      <th>4</th>\n",
       "      <td>506 Lenox Ave, New York, NY 10037, USA</td>\n",
       "      <td>1500 E 92nd St, Brooklyn, NY 11236, USA</td>\n",
       "      <td>7:30</td>\n",
       "      <td>99</td>\n",
       "    </tr>\n",
       "  </tbody>\n",
       "</table>\n",
       "</div>"
      ],
      "text/plain": [
       "                                          origin  \\\n",
       "0  1740 Eastchester Rd, The Bronx, NY 10461, USA   \n",
       "1        4422 3rd Ave., The Bronx, NY 10456, USA   \n",
       "2  1447 St Nicholas Ave, New York, NY 10033, USA   \n",
       "3          25-10 30th Ave, Queens, NY 11102, USA   \n",
       "4         506 Lenox Ave, New York, NY 10037, USA   \n",
       "\n",
       "                               destination  time  duration  \n",
       "0  1500 E 92nd St, Brooklyn, NY 11236, USA  7:30       122  \n",
       "1  1500 E 92nd St, Brooklyn, NY 11236, USA  7:30       122  \n",
       "2  1500 E 92nd St, Brooklyn, NY 11236, USA  7:30       101  \n",
       "3  1500 E 92nd St, Brooklyn, NY 11236, USA  7:30        88  \n",
       "4  1500 E 92nd St, Brooklyn, NY 11236, USA  7:30        99  "
      ]
     },
     "execution_count": 23,
     "metadata": {},
     "output_type": "execute_result"
    }
   ],
   "source": [
    "# +read the first dataset with pandas\n",
    "df = pd.read_csv(\"results1.csv\")\n",
    "df.head()"
   ]
  },
  {
   "cell_type": "code",
   "execution_count": 24,
   "metadata": {},
   "outputs": [],
   "source": [
    "import matplotlib.pyplot as plt\n"
   ]
  },
  {
   "cell_type": "code",
   "execution_count": 37,
   "metadata": {
    "scrolled": true
   },
   "outputs": [
    {
     "name": "stderr",
     "output_type": "stream",
     "text": [
      "/opt/conda/lib/python3.6/site-packages/ipykernel_launcher.py:3: SettingWithCopyWarning: \n",
      "A value is trying to be set on a copy of a slice from a DataFrame.\n",
      "Try using .loc[row_indexer,col_indexer] = value instead\n",
      "\n",
      "See the caveats in the documentation: http://pandas.pydata.org/pandas-docs/stable/indexing.html#indexing-view-versus-copy\n",
      "  This is separate from the ipykernel package so we can avoid doing imports until\n",
      "/opt/conda/lib/python3.6/site-packages/ipykernel_launcher.py:4: SettingWithCopyWarning: \n",
      "A value is trying to be set on a copy of a slice from a DataFrame.\n",
      "Try using .loc[row_indexer,col_indexer] = value instead\n",
      "\n",
      "See the caveats in the documentation: http://pandas.pydata.org/pandas-docs/stable/indexing.html#indexing-view-versus-copy\n",
      "  after removing the cwd from sys.path.\n",
      "/opt/conda/lib/python3.6/site-packages/ipykernel_launcher.py:5: SettingWithCopyWarning: \n",
      "A value is trying to be set on a copy of a slice from a DataFrame.\n",
      "Try using .loc[row_indexer,col_indexer] = value instead\n",
      "\n",
      "See the caveats in the documentation: http://pandas.pydata.org/pandas-docs/stable/indexing.html#indexing-view-versus-copy\n",
      "  \"\"\"\n",
      "/opt/conda/lib/python3.6/site-packages/ipykernel_launcher.py:6: SettingWithCopyWarning: \n",
      "A value is trying to be set on a copy of a slice from a DataFrame.\n",
      "Try using .loc[row_indexer,col_indexer] = value instead\n",
      "\n",
      "See the caveats in the documentation: http://pandas.pydata.org/pandas-docs/stable/indexing.html#indexing-view-versus-copy\n",
      "  \n",
      "/opt/conda/lib/python3.6/site-packages/ipykernel_launcher.py:7: SettingWithCopyWarning: \n",
      "A value is trying to be set on a copy of a slice from a DataFrame.\n",
      "Try using .loc[row_indexer,col_indexer] = value instead\n",
      "\n",
      "See the caveats in the documentation: http://pandas.pydata.org/pandas-docs/stable/indexing.html#indexing-view-versus-copy\n",
      "  import sys\n"
     ]
    },
    {
     "data": {
      "text/plain": [
       "<matplotlib.axes._subplots.AxesSubplot at 0x7f9a6d8e5be0>"
      ]
     },
     "execution_count": 37,
     "metadata": {},
     "output_type": "execute_result"
    },
    {
     "data": {
      "image/png": "[encoded data removed]",
      "text/plain": [
       "<Figure size 432x288 with 1 Axes>"
      ]
     },
     "metadata": {},
     "output_type": "display_data"
    }
   ],
   "source": [
    "# filter out only the month and accidents cols\n",
    "d = df[['destination', \"duration\", \"time\"]]\n",
    "d['destination'] = d['destination'].replace('1500 E 92nd St, Brooklyn, NY 11236, USA', 'Canarsie')\n",
    "d['destination'] = d['destination'].replace('108-35 167th St, Queens, NY 11433, USA', 'Queens Village')\n",
    "d['destination'] = d['destination'].replace('102-29 215th St, Jamaica, NY 11429, USA', 'Jamaica')\n",
    "d['destination'] = d['destination'].replace('1290 St Nicholas Ave, New York, NY 10033, USA', 'Washington Heights')\n",
    "d['destination'] = d['destination'].replace('2300 Randall Ave, The Bronx, NY 10473, USA', 'Castle Hill')\n",
    "\n",
    "#d.groupby(['destination', \"time\"]).agg('mean').unstack(1).plot(kind='bar', subplots=True)\n",
    "d.groupby(['destination']).agg('mean').plot(kind='bar')\n",
    "\n",
    "#d = df.groupby(\"origin\").mean()\n",
    "#d"
   ]
  },
  {
   "cell_type": "code",
   "execution_count": null,
   "metadata": {},
   "outputs": [],
   "source": [
    "g = sns.FacetGrid(tips, col=\"time\",  row=\"sex\")\n",
    "g.map(sns.scatterplot, \"total_bill\", \"tip\")"
   ]
  },
  {
   "cell_type": "code",
   "execution_count": 36,
   "metadata": {},
   "outputs": [
    {
     "ename": "ValueError",
     "evalue": "shape mismatch: objects cannot be broadcast to a single shape",
     "output_type": "error",
     "traceback": [
      "\u001b[0;31m---------------------------------------------------------------------------\u001b[0m",
      "\u001b[0;31mValueError\u001b[0m                                Traceback (most recent call last)",
      "\u001b[0;32m<ipython-input-36-6666588088c9>\u001b[0m in \u001b[0;36m<module>\u001b[0;34m\u001b[0m\n\u001b[1;32m     13\u001b[0m \u001b[0mx_pos\u001b[0m \u001b[0;34m=\u001b[0m \u001b[0;34m[\u001b[0m\u001b[0mi\u001b[0m \u001b[0;32mfor\u001b[0m \u001b[0mi\u001b[0m\u001b[0;34m,\u001b[0m \u001b[0m_\u001b[0m \u001b[0;32min\u001b[0m \u001b[0menumerate\u001b[0m\u001b[0;34m(\u001b[0m\u001b[0mx\u001b[0m\u001b[0;34m)\u001b[0m\u001b[0;34m]\u001b[0m\u001b[0;34m\u001b[0m\u001b[0;34m\u001b[0m\u001b[0m\n\u001b[1;32m     14\u001b[0m \u001b[0;34m\u001b[0m\u001b[0m\n\u001b[0;32m---> 15\u001b[0;31m \u001b[0mplt\u001b[0m\u001b[0;34m.\u001b[0m\u001b[0mbar\u001b[0m\u001b[0;34m(\u001b[0m\u001b[0mx_pos\u001b[0m\u001b[0;34m,\u001b[0m \u001b[0menergy\u001b[0m\u001b[0;34m,\u001b[0m \u001b[0mcolor\u001b[0m\u001b[0;34m=\u001b[0m\u001b[0;34m'green'\u001b[0m\u001b[0;34m)\u001b[0m\u001b[0;34m\u001b[0m\u001b[0;34m\u001b[0m\u001b[0m\n\u001b[0m\u001b[1;32m     16\u001b[0m \u001b[0mplt\u001b[0m\u001b[0;34m.\u001b[0m\u001b[0mxlabel\u001b[0m\u001b[0;34m(\u001b[0m\u001b[0;34m\"Energy Source\"\u001b[0m\u001b[0;34m)\u001b[0m\u001b[0;34m\u001b[0m\u001b[0;34m\u001b[0m\u001b[0m\n\u001b[1;32m     17\u001b[0m \u001b[0mplt\u001b[0m\u001b[0;34m.\u001b[0m\u001b[0mylabel\u001b[0m\u001b[0;34m(\u001b[0m\u001b[0;34m\"Energy Output (GJ)\"\u001b[0m\u001b[0;34m)\u001b[0m\u001b[0;34m\u001b[0m\u001b[0;34m\u001b[0m\u001b[0m\n",
      "\u001b[0;32m/opt/conda/lib/python3.6/site-packages/matplotlib/pyplot.py\u001b[0m in \u001b[0;36mbar\u001b[0;34m(*args, **kwargs)\u001b[0m\n\u001b[1;32m   2773\u001b[0m                       mplDeprecation)\n\u001b[1;32m   2774\u001b[0m     \u001b[0;32mtry\u001b[0m\u001b[0;34m:\u001b[0m\u001b[0;34m\u001b[0m\u001b[0;34m\u001b[0m\u001b[0m\n\u001b[0;32m-> 2775\u001b[0;31m         \u001b[0mret\u001b[0m \u001b[0;34m=\u001b[0m \u001b[0max\u001b[0m\u001b[0;34m.\u001b[0m\u001b[0mbar\u001b[0m\u001b[0;34m(\u001b[0m\u001b[0;34m*\u001b[0m\u001b[0margs\u001b[0m\u001b[0;34m,\u001b[0m \u001b[0;34m**\u001b[0m\u001b[0mkwargs\u001b[0m\u001b[0;34m)\u001b[0m\u001b[0;34m\u001b[0m\u001b[0;34m\u001b[0m\u001b[0m\n\u001b[0m\u001b[1;32m   2776\u001b[0m     \u001b[0;32mfinally\u001b[0m\u001b[0;34m:\u001b[0m\u001b[0;34m\u001b[0m\u001b[0;34m\u001b[0m\u001b[0m\n\u001b[1;32m   2777\u001b[0m         \u001b[0max\u001b[0m\u001b[0;34m.\u001b[0m\u001b[0m_hold\u001b[0m \u001b[0;34m=\u001b[0m \u001b[0mwashold\u001b[0m\u001b[0;34m\u001b[0m\u001b[0;34m\u001b[0m\u001b[0m\n",
      "\u001b[0;32m/opt/conda/lib/python3.6/site-packages/matplotlib/__init__.py\u001b[0m in \u001b[0;36minner\u001b[0;34m(ax, *args, **kwargs)\u001b[0m\n\u001b[1;32m   1865\u001b[0m                         \u001b[0;34m\"the Matplotlib list!)\"\u001b[0m \u001b[0;34m%\u001b[0m \u001b[0;34m(\u001b[0m\u001b[0mlabel_namer\u001b[0m\u001b[0;34m,\u001b[0m \u001b[0mfunc\u001b[0m\u001b[0;34m.\u001b[0m\u001b[0m__name__\u001b[0m\u001b[0;34m)\u001b[0m\u001b[0;34m,\u001b[0m\u001b[0;34m\u001b[0m\u001b[0;34m\u001b[0m\u001b[0m\n\u001b[1;32m   1866\u001b[0m                         RuntimeWarning, stacklevel=2)\n\u001b[0;32m-> 1867\u001b[0;31m             \u001b[0;32mreturn\u001b[0m \u001b[0mfunc\u001b[0m\u001b[0;34m(\u001b[0m\u001b[0max\u001b[0m\u001b[0;34m,\u001b[0m \u001b[0;34m*\u001b[0m\u001b[0margs\u001b[0m\u001b[0;34m,\u001b[0m \u001b[0;34m**\u001b[0m\u001b[0mkwargs\u001b[0m\u001b[0;34m)\u001b[0m\u001b[0;34m\u001b[0m\u001b[0;34m\u001b[0m\u001b[0m\n\u001b[0m\u001b[1;32m   1868\u001b[0m \u001b[0;34m\u001b[0m\u001b[0m\n\u001b[1;32m   1869\u001b[0m         inner.__doc__ = _add_data_doc(inner.__doc__,\n",
      "\u001b[0;32m/opt/conda/lib/python3.6/site-packages/matplotlib/axes/_axes.py\u001b[0m in \u001b[0;36mbar\u001b[0;34m(self, *args, **kwargs)\u001b[0m\n\u001b[1;32m   2236\u001b[0m         x, height, width, y, linewidth = np.broadcast_arrays(\n\u001b[1;32m   2237\u001b[0m             \u001b[0;31m# Make args iterable too.\u001b[0m\u001b[0;34m\u001b[0m\u001b[0;34m\u001b[0m\u001b[0;34m\u001b[0m\u001b[0m\n\u001b[0;32m-> 2238\u001b[0;31m             np.atleast_1d(x), height, width, y, linewidth)\n\u001b[0m\u001b[1;32m   2239\u001b[0m \u001b[0;34m\u001b[0m\u001b[0m\n\u001b[1;32m   2240\u001b[0m         \u001b[0;31m# Now that units have been converted, set the tick locations.\u001b[0m\u001b[0;34m\u001b[0m\u001b[0;34m\u001b[0m\u001b[0;34m\u001b[0m\u001b[0m\n",
      "\u001b[0;32m/opt/conda/lib/python3.6/site-packages/numpy/lib/stride_tricks.py\u001b[0m in \u001b[0;36mbroadcast_arrays\u001b[0;34m(*args, **kwargs)\u001b[0m\n\u001b[1;32m    247\u001b[0m     \u001b[0margs\u001b[0m \u001b[0;34m=\u001b[0m \u001b[0;34m[\u001b[0m\u001b[0mnp\u001b[0m\u001b[0;34m.\u001b[0m\u001b[0marray\u001b[0m\u001b[0;34m(\u001b[0m\u001b[0m_m\u001b[0m\u001b[0;34m,\u001b[0m \u001b[0mcopy\u001b[0m\u001b[0;34m=\u001b[0m\u001b[0;32mFalse\u001b[0m\u001b[0;34m,\u001b[0m \u001b[0msubok\u001b[0m\u001b[0;34m=\u001b[0m\u001b[0msubok\u001b[0m\u001b[0;34m)\u001b[0m \u001b[0;32mfor\u001b[0m \u001b[0m_m\u001b[0m \u001b[0;32min\u001b[0m \u001b[0margs\u001b[0m\u001b[0;34m]\u001b[0m\u001b[0;34m\u001b[0m\u001b[0;34m\u001b[0m\u001b[0m\n\u001b[1;32m    248\u001b[0m \u001b[0;34m\u001b[0m\u001b[0m\n\u001b[0;32m--> 249\u001b[0;31m     \u001b[0mshape\u001b[0m \u001b[0;34m=\u001b[0m \u001b[0m_broadcast_shape\u001b[0m\u001b[0;34m(\u001b[0m\u001b[0;34m*\u001b[0m\u001b[0margs\u001b[0m\u001b[0;34m)\u001b[0m\u001b[0;34m\u001b[0m\u001b[0;34m\u001b[0m\u001b[0m\n\u001b[0m\u001b[1;32m    250\u001b[0m \u001b[0;34m\u001b[0m\u001b[0m\n\u001b[1;32m    251\u001b[0m     \u001b[0;32mif\u001b[0m \u001b[0mall\u001b[0m\u001b[0;34m(\u001b[0m\u001b[0marray\u001b[0m\u001b[0;34m.\u001b[0m\u001b[0mshape\u001b[0m \u001b[0;34m==\u001b[0m \u001b[0mshape\u001b[0m \u001b[0;32mfor\u001b[0m \u001b[0marray\u001b[0m \u001b[0;32min\u001b[0m \u001b[0margs\u001b[0m\u001b[0;34m)\u001b[0m\u001b[0;34m:\u001b[0m\u001b[0;34m\u001b[0m\u001b[0;34m\u001b[0m\u001b[0m\n",
      "\u001b[0;32m/opt/conda/lib/python3.6/site-packages/numpy/lib/stride_tricks.py\u001b[0m in \u001b[0;36m_broadcast_shape\u001b[0;34m(*args)\u001b[0m\n\u001b[1;32m    182\u001b[0m     \u001b[0;31m# use the old-iterator because np.nditer does not handle size 0 arrays\u001b[0m\u001b[0;34m\u001b[0m\u001b[0;34m\u001b[0m\u001b[0;34m\u001b[0m\u001b[0m\n\u001b[1;32m    183\u001b[0m     \u001b[0;31m# consistently\u001b[0m\u001b[0;34m\u001b[0m\u001b[0;34m\u001b[0m\u001b[0;34m\u001b[0m\u001b[0m\n\u001b[0;32m--> 184\u001b[0;31m     \u001b[0mb\u001b[0m \u001b[0;34m=\u001b[0m \u001b[0mnp\u001b[0m\u001b[0;34m.\u001b[0m\u001b[0mbroadcast\u001b[0m\u001b[0;34m(\u001b[0m\u001b[0;34m*\u001b[0m\u001b[0margs\u001b[0m\u001b[0;34m[\u001b[0m\u001b[0;34m:\u001b[0m\u001b[0;36m32\u001b[0m\u001b[0;34m]\u001b[0m\u001b[0;34m)\u001b[0m\u001b[0;34m\u001b[0m\u001b[0;34m\u001b[0m\u001b[0m\n\u001b[0m\u001b[1;32m    185\u001b[0m     \u001b[0;31m# unfortunately, it cannot handle 32 or more arguments directly\u001b[0m\u001b[0;34m\u001b[0m\u001b[0;34m\u001b[0m\u001b[0;34m\u001b[0m\u001b[0m\n\u001b[1;32m    186\u001b[0m     \u001b[0;32mfor\u001b[0m \u001b[0mpos\u001b[0m \u001b[0;32min\u001b[0m \u001b[0mrange\u001b[0m\u001b[0;34m(\u001b[0m\u001b[0;36m32\u001b[0m\u001b[0;34m,\u001b[0m \u001b[0mlen\u001b[0m\u001b[0;34m(\u001b[0m\u001b[0margs\u001b[0m\u001b[0;34m)\u001b[0m\u001b[0;34m,\u001b[0m \u001b[0;36m31\u001b[0m\u001b[0;34m)\u001b[0m\u001b[0;34m:\u001b[0m\u001b[0;34m\u001b[0m\u001b[0;34m\u001b[0m\u001b[0m\n",
      "\u001b[0;31mValueError\u001b[0m: shape mismatch: objects cannot be broadcast to a single shape"
     ]
    },
    {
     "data": {
      "image/png": "[encoded data removed]",
      "text/plain": [
       "<Figure size 432x288 with 1 Axes>"
      ]
     },
     "metadata": {},
     "output_type": "display_data"
    }
   ],
   "source": [
    "# filter out only the month and accidents cols\n",
    "e = df[['origin', \"duration\"]]\n",
    "#e = df.groupby(\"origin\").mean()\n",
    "e.groupby(['origin']).agg('mean').unstack(1).plot(kind='bar', subplots=True)\n",
    "\n",
    "\n",
    "%matplotlib inline\n",
    "plt.style.use('ggplot')\n",
    "\n",
    "x = ['Jamaica', 'Queens Village', 'Washington Heights', 'Canarsie', 'Castle Hill']\n",
    "energy = [5, 6, 15, 22, 24, 8]\n",
    "\n",
    "x_pos = [i for i, _ in enumerate(x)]\n",
    "\n",
    "plt.bar(x_pos, energy, color='green')\n",
    "plt.xlabel(\"Energy Source\")\n",
    "plt.ylabel(\"Energy Output (GJ)\")\n",
    "plt.title(\"Energy output from various fuel sources\")\n",
    "\n",
    "plt.xticks(x_pos, x)\n",
    "\n",
    "plt.show()"
   ]
  },
  {
   "cell_type": "code",
   "execution_count": null,
   "metadata": {},
   "outputs": [],
   "source": [
    "# creating the dataset \n",
    "data = {'Jamaica':, 'Queens Village':, 'Washington Heights', 'Canarsie', 'Castle Hill'} \n",
    "courses = list(data.keys()) \n",
    "values = list(data.values()) \n",
    "   \n",
    "fig = plt.figure(figsize = (10, 5)) \n",
    "  \n",
    "# creating the bar plot \n",
    "plt.bar(courses, values, color ='maroon',  \n",
    "        width = 0.4) \n",
    "  \n",
    "plt.xlabel(\"Courses offered\") \n",
    "plt.ylabel(\"No. of students enrolled\") \n",
    "plt.title(\"Students enrolled in different courses\") \n",
    "plt.show() "
   ]
  },
  {
   "cell_type": "code",
   "execution_count": null,
   "metadata": {},
   "outputs": [],
   "source": [
    "test.groupby(['week', 'type', \n",
    "              'type2']).agg('sum').unstack(1).plot(kind='bar', subplots=True)"
   ]
  },
  {
   "cell_type": "code",
   "execution_count": 15,
   "metadata": {},
   "outputs": [
    {
     "data": {
      "text/plain": [
       "{'destination_addresses': ['Chambers Street Station, New York, NY 10007, USA'],\n",
       " 'origin_addresses': ['301 E 143rd St, The Bronx, NY 10451, USA',\n",
       "  '772 Edgewater Rd, The Bronx, NY 10474, USA',\n",
       "  '1630 Bruckner Blvd, The Bronx, NY 10473, USA'],\n",
       " 'rows': [{'elements': [{'distance': {'text': '10.4 mi', 'value': 16657},\n",
       "     'duration': {'text': '45 mins', 'value': 2698},\n",
       "     'status': 'OK'}]},\n",
       "  {'elements': [{'distance': {'text': '12.8 mi', 'value': 20596},\n",
       "     'duration': {'text': '1 hour 5 mins', 'value': 3889},\n",
       "     'status': 'OK'}]},\n",
       "  {'elements': [{'distance': {'text': '13.2 mi', 'value': 21221},\n",
       "     'duration': {'text': '1 hour 3 mins', 'value': 3782},\n",
       "     'status': 'OK'}]}],\n",
       " 'status': 'OK'}"
      ]
     },
     "execution_count": 15,
     "metadata": {},
     "output_type": "execute_result"
    }
   ],
   "source": [
    "# Time 2\n",
    "departure_time = \"1606744800\" # 11/30/20 at 9am ET\n",
    "URL = \"https://maps.googleapis.com/maps/api/distancematrix/json?units=imperial&origins=\" \n",
    "URL = URL + origins + \"&destinations=\" + destinations\n",
    "URL = URL + \"&mode=transit&departure_time=\"\n",
    "URL = URL + departure_time + \"&key=\"\n",
    "URL = URL + key\n",
    "r = requests.get(url = URL)\n",
    "data = r.json() \n",
    "data"
   ]
  },
  {
   "cell_type": "code",
   "execution_count": 16,
   "metadata": {},
   "outputs": [
    {
     "data": {
      "text/plain": [
       "{'destination_addresses': ['Chambers Street Station, New York, NY 10007, USA'],\n",
       " 'origin_addresses': ['301 E 143rd St, The Bronx, NY 10451, USA',\n",
       "  '772 Edgewater Rd, The Bronx, NY 10474, USA',\n",
       "  '1630 Bruckner Blvd, The Bronx, NY 10473, USA'],\n",
       " 'rows': [{'elements': [{'distance': {'text': '10.4 mi', 'value': 16657},\n",
       "     'duration': {'text': '45 mins', 'value': 2728},\n",
       "     'status': 'OK'}]},\n",
       "  {'elements': [{'distance': {'text': '12.8 mi', 'value': 20597},\n",
       "     'duration': {'text': '1 hour 10 mins', 'value': 4189},\n",
       "     'status': 'OK'}]},\n",
       "  {'elements': [{'distance': {'text': '13.1 mi', 'value': 21010},\n",
       "     'duration': {'text': '1 hour 11 mins', 'value': 4274},\n",
       "     'status': 'OK'}]}],\n",
       " 'status': 'OK'}"
      ]
     },
     "execution_count": 16,
     "metadata": {},
     "output_type": "execute_result"
    }
   ],
   "source": [
    "# Time 3\n",
    "departure_time = \"1606482000\" # 11/27/20 at 8am ET\n",
    "URL = \"https://maps.googleapis.com/maps/api/distancematrix/json?units=imperial&origins=\" \n",
    "URL = URL + origins + \"&destinations=\" + destinations\n",
    "URL = URL + \"&mode=transit&departure_time=\"\n",
    "URL = URL + departure_time + \"&key=\"\n",
    "URL = URL + key\n",
    "r = requests.get(url = URL)\n",
    "data = r.json() \n",
    "data"
   ]
  },
  {
   "cell_type": "markdown",
   "metadata": {},
   "source": [
    "## Working example"
   ]
  },
  {
   "cell_type": "code",
   "execution_count": 33,
   "metadata": {},
   "outputs": [],
   "source": [
    "# original working URL:\n",
    "#URL = \"https://maps.googleapis.com/maps/api/distancematrix/json?units=imperial&origins=place_id:ChIJRzJqIE1awokRz3UG3VkZejI&destinations=place_id:ChIJ_dkIzRhawokRcm_MIAmj9YA&mode=transit&departure_time=1606942796&key=\" #  try this time also:   1434391201    now: 1606776553\n"
   ]
  },
  {
   "cell_type": "code",
   "execution_count": 34,
   "metadata": {},
   "outputs": [],
   "source": [
    "r = requests.get(url = URL) #, params = PARAMS \n"
   ]
  },
  {
   "cell_type": "code",
   "execution_count": 35,
   "metadata": {},
   "outputs": [
    {
     "data": {
      "text/plain": [
       "{'destination_addresses': ['Chambers Street Station, New York, NY 10007, USA'],\n",
       " 'origin_addresses': ['209 Joralemon St, Brooklyn, NY 11201, USA'],\n",
       " 'rows': [{'elements': [{'status': 'ZERO_RESULTS'}]}],\n",
       " 'status': 'OK'}"
      ]
     },
     "execution_count": 35,
     "metadata": {},
     "output_type": "execute_result"
    }
   ],
   "source": [
    "data = r.json() \n",
    "data"
   ]
  },
  {
   "cell_type": "markdown",
   "metadata": {},
   "source": [
    "## Older info"
   ]
  },
  {
   "cell_type": "code",
   "execution_count": null,
   "metadata": {},
   "outputs": [],
   "source": [
    "# example:\n",
    "# Origin: Queens Botanical Garden plus code: Q529+5W%20New%20York  - place_id:  ChIJTRRcxWxgwokR0_x-YAJbLgU\n",
    "# Destination: Brooklyn Children's Museum plus code: M3F4+QC%20New%20York  -place_id:  ChIJ99JOl4NbwokRSoTA_j2J22I\n",
    "# Destination 2: Museum of Chinese in America plus code: P292+Q9%20New%20York  - place_id:  ChIJrd5vvolZwokRLR4z0Ui4KFs\n",
    "# https://maps.googleapis.com/maps/api/distancematrix/json?units=imperial&origins=Q529+5W%20New%20York&destinations=M3F4+QC%20New%20York|P292+Q9%20New%20York&mode=transit&departure_time=2020-06-15T13:00:00.00&key=\n",
    "#url = \"https://maps.googleapis.com/maps/api/distancematrix/json\"\n",
    "# url = \"https://maps.googleapis.com/maps/api/distancematrix/json?units=imperial&origins=Q529+5W%20New%20York&destinations=M3F4+QC%20New%20York|P292+Q9%20New%20York&mode=transit&departure_time=2020-06-15T13:00:00.00&key=\"\n",
    "# WORKING ONE: \n",
    "#URL: \"https://maps.googleapis.com/maps/api/distancematrix/json\"\n",
    "#  THIS WORKS!\n",
    "\n",
    "\n",
    "\n",
    "\n",
    "origins= \"ChIJTRRcxWxgwokR0_x-YAJbLgU\"          \n",
    "units = \"imperial\"\n",
    "destinations = \"place_id:ChIJ99JOl4NbwokRSoTA_j2J22I|place_id:ChIJrd5vvolZwokRLR4z0Ui4KFs\" # |P292%2BQ9%20New%20York\n",
    "mode= \"transit\"\n",
    "departure_time= \"1434391201\"  #9999-12-31T23:59:59.999999999Z, 1434391201,  2020-06-15T13:00:00.00\n",
    "key=\"\"\n",
    "PARAMS = {'origins':origins, \"units\": units, \"destinations\": destinations, \"mode\": mode, \"departure_time\": departure_time, \"key\": key} \n",
    "\n",
    "\n",
    "\n",
    "\n"
   ]
  }
 ],
 "metadata": {
  "kernelspec": {
   "display_name": "Python 3",
   "language": "python",
   "name": "python3"
  },
  "language_info": {
   "codemirror_mode": {
    "name": "ipython",
    "version": 3
   },
   "file_extension": ".py",
   "mimetype": "text/x-python",
   "name": "python",
   "nbconvert_exporter": "python",
   "pygments_lexer": "ipython3",
   "version": "3.6.7"
  }
 },
 "nbformat": 4,
 "nbformat_minor": 2
}
